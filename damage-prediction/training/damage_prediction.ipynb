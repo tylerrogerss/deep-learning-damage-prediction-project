{
 "cells": [
  {
   "cell_type": "markdown",
   "id": "885ec39a",
   "metadata": {},
   "source": [
    "<h2 align=\"center\">Vehicle Damage Detection Project</h2>"
   ]
  },
  {
   "cell_type": "code",
   "execution_count": 2,
   "id": "a8e97ab8",
   "metadata": {},
   "outputs": [],
   "source": [
    "import os\n",
    "from torchvision import datasets, transforms\n",
    "from torch.utils.data import DataLoader\n",
    "import torch\n",
    "import torch.nn as nn\n",
    "import torch.optim as optim\n",
    "import torch.nn.functional as F\n",
    "import time\n",
    "import torchvision.models as models\n",
    "from matplotlib import pyplot as plt"
   ]
  },
  {
   "cell_type": "code",
   "execution_count": 3,
   "id": "94043f3c",
   "metadata": {},
   "outputs": [
    {
     "data": {
      "text/plain": [
       "device(type='cpu')"
      ]
     },
     "execution_count": 3,
     "metadata": {},
     "output_type": "execute_result"
    }
   ],
   "source": [
    "device = torch.device(\"cuda\" if torch.cuda.is_available() else \"cpu\")\n",
    "device"
   ]
  },
  {
   "cell_type": "markdown",
   "id": "4d4a91fc",
   "metadata": {},
   "source": [
    "### Load Data"
   ]
  },
  {
   "cell_type": "code",
   "execution_count": 5,
   "id": "f2f3e21e",
   "metadata": {},
   "outputs": [],
   "source": [
    "image_transforms = transforms.Compose([\n",
    "    transforms.RandomHorizontalFlip(),\n",
    "    transforms.RandomRotation(10),\n",
    "    transforms.ColorJitter(brightness=0.2, contrast=0.2),\n",
    "    transforms.Resize((224, 224)),\n",
    "    transforms.ToTensor(),\n",
    "    transforms.Normalize(mean=[0.485, 0.456, 0.406], std=[0.229, 0.224, 0.225])\n",
    "])"
   ]
  },
  {
   "cell_type": "code",
   "execution_count": 6,
   "id": "c4495296",
   "metadata": {},
   "outputs": [
    {
     "data": {
      "text/plain": [
       "2300"
      ]
     },
     "execution_count": 6,
     "metadata": {},
     "output_type": "execute_result"
    }
   ],
   "source": [
    "dataset_path = \"./dataset\"\n",
    "\n",
    "dataset = datasets.ImageFolder(root=dataset_path, transform=image_transforms)\n",
    "len(dataset)"
   ]
  },
  {
   "cell_type": "code",
   "execution_count": 7,
   "id": "f4fd845c",
   "metadata": {},
   "outputs": [
    {
     "data": {
      "text/plain": [
       "1725.0"
      ]
     },
     "execution_count": 7,
     "metadata": {},
     "output_type": "execute_result"
    }
   ],
   "source": [
    "2300*0.75"
   ]
  },
  {
   "cell_type": "code",
   "execution_count": 8,
   "id": "8a5c0c93",
   "metadata": {},
   "outputs": [
    {
     "data": {
      "text/plain": [
       "['F_Breakage', 'F_Crushed', 'F_Normal', 'R_Breakage', 'R_Crushed', 'R_Normal']"
      ]
     },
     "execution_count": 8,
     "metadata": {},
     "output_type": "execute_result"
    }
   ],
   "source": [
    "class_names = dataset.classes\n",
    "class_names "
   ]
  },
  {
   "cell_type": "code",
   "execution_count": 9,
   "id": "4373a3c7",
   "metadata": {},
   "outputs": [
    {
     "data": {
      "text/plain": [
       "6"
      ]
     },
     "execution_count": 9,
     "metadata": {},
     "output_type": "execute_result"
    }
   ],
   "source": [
    "num_classes = len(dataset.classes)\n",
    "num_classes"
   ]
  },
  {
   "cell_type": "code",
   "execution_count": 10,
   "id": "357cf384",
   "metadata": {},
   "outputs": [
    {
     "data": {
      "text/plain": [
       "(1725, 575)"
      ]
     },
     "execution_count": 10,
     "metadata": {},
     "output_type": "execute_result"
    }
   ],
   "source": [
    "train_size = int(0.75*len(dataset))\n",
    "val_size = len(dataset) - train_size\n",
    "\n",
    "train_size, val_size"
   ]
  },
  {
   "cell_type": "code",
   "execution_count": 11,
   "id": "ce73b1d9",
   "metadata": {},
   "outputs": [],
   "source": [
    "from torch.utils.data import random_split\n",
    "\n",
    "train_dataset, val_dataset = random_split(dataset, [train_size, val_size])"
   ]
  },
  {
   "cell_type": "code",
   "execution_count": 12,
   "id": "8ea8ef79",
   "metadata": {},
   "outputs": [],
   "source": [
    "train_loader = DataLoader(train_dataset, batch_size=32, shuffle=True)\n",
    "val_loader = DataLoader(val_dataset, batch_size=32, shuffle=True)"
   ]
  },
  {
   "cell_type": "code",
   "execution_count": 13,
   "id": "c2ee7190",
   "metadata": {},
   "outputs": [
    {
     "name": "stdout",
     "output_type": "stream",
     "text": [
      "torch.Size([32, 3, 224, 224])\n",
      "torch.Size([32])\n"
     ]
    }
   ],
   "source": [
    "for images, labels in train_loader:\n",
    "    print(images.shape)\n",
    "    print(labels.shape)\n",
    "    break"
   ]
  },
  {
   "cell_type": "code",
   "execution_count": 14,
   "id": "37412e6b",
   "metadata": {},
   "outputs": [
    {
     "data": {
      "text/plain": [
       "tensor(0)"
      ]
     },
     "execution_count": 14,
     "metadata": {},
     "output_type": "execute_result"
    }
   ],
   "source": [
    "labels[1]"
   ]
  },
  {
   "cell_type": "code",
   "execution_count": 15,
   "id": "ed545b4b",
   "metadata": {},
   "outputs": [
    {
     "data": {
      "text/plain": [
       "torch.Size([3, 224, 224])"
      ]
     },
     "execution_count": 15,
     "metadata": {},
     "output_type": "execute_result"
    }
   ],
   "source": [
    "images[1].shape"
   ]
  },
  {
   "cell_type": "code",
   "execution_count": 16,
   "id": "fc5835f1",
   "metadata": {},
   "outputs": [
    {
     "data": {
      "text/plain": [
       "torch.Size([224, 224, 3])"
      ]
     },
     "execution_count": 16,
     "metadata": {},
     "output_type": "execute_result"
    }
   ],
   "source": [
    "images[1].permute(1,2,0).shape"
   ]
  },
  {
   "cell_type": "code",
   "execution_count": 17,
   "id": "14e0e36a",
   "metadata": {},
   "outputs": [
    {
     "name": "stderr",
     "output_type": "stream",
     "text": [
      "Clipping input data to the valid range for imshow with RGB data ([0..1] for floats or [0..255] for integers).\n"
     ]
    },
    {
     "data": {
      "image/png": "[encoded data removed]",
      "text/plain": [
       "<Figure size 640x480 with 1 Axes>"
      ]
     },
     "metadata": {},
     "output_type": "display_data"
    }
   ],
   "source": [
    "plt.imshow(images[1].permute(1,2,0))\n",
    "plt.show()"
   ]
  },
  {
   "cell_type": "markdown",
   "id": "b6e8c1d4",
   "metadata": {},
   "source": [
    "### Model 1: CNN"
   ]
  },
  {
   "cell_type": "code",
   "execution_count": 19,
   "id": "af38f156",
   "metadata": {},
   "outputs": [],
   "source": [
    "class CarClassifierCNN(nn.Module):\n",
    "    def __init__(self, num_classes):\n",
    "        super().__init__()\n",
    "        self.network = nn.Sequential(\n",
    "            nn.Conv2d(in_channels=3, out_channels=16, kernel_size=3, stride=1, padding=1), # (16, 224, 224) \n",
    "            nn.ReLU(),\n",
    "            nn.MaxPool2d(kernel_size=2, stride=2, padding=0), # (16, 112, 112),\n",
    "            nn.Conv2d(in_channels=16, out_channels=32, kernel_size=3, stride=1, padding=1), \n",
    "            nn.ReLU(),\n",
    "            nn.MaxPool2d(kernel_size=2, stride=2, padding=0), # (32, 56, 56)           \n",
    "            nn.Conv2d(in_channels=32, out_channels=64, kernel_size=3, stride=1, padding=1), \n",
    "            nn.ReLU(),\n",
    "            nn.MaxPool2d(kernel_size=2, stride=2, padding=0), # (64, 28, 28),\n",
    "            nn.Flatten(),\n",
    "            nn.Linear(64*28*28, 512),\n",
    "            nn.ReLU(),\n",
    "            nn.Linear(512, num_classes)\n",
    "        )\n",
    "        \n",
    "    def forward(self, x):\n",
    "        x = self.network(x)\n",
    "        return x"
   ]
  },
  {
   "cell_type": "code",
   "execution_count": 20,
   "id": "6d8bd77b",
   "metadata": {},
   "outputs": [
    {
     "data": {
      "text/plain": [
       "32"
      ]
     },
     "execution_count": 20,
     "metadata": {},
     "output_type": "execute_result"
    }
   ],
   "source": [
    "images.size(0)"
   ]
  },
  {
   "cell_type": "code",
   "execution_count": 21,
   "id": "c634d550",
   "metadata": {},
   "outputs": [
    {
     "data": {
      "text/plain": [
       "1725"
      ]
     },
     "execution_count": 21,
     "metadata": {},
     "output_type": "execute_result"
    }
   ],
   "source": [
    "len(train_loader.dataset)"
   ]
  },
  {
   "cell_type": "code",
   "execution_count": 22,
   "id": "80c1c552",
   "metadata": {},
   "outputs": [],
   "source": [
    "def train_model(model, criterion, optimizer, epochs=5):\n",
    "    start = time.time()\n",
    "    \n",
    "    for epoch in range(epochs):\n",
    "        model.train()\n",
    "        running_loss = 0.0\n",
    "        for batch_num, (images, labels) in enumerate(train_loader):\n",
    "            images, labels = images.to(device), labels.to(device)\n",
    "            \n",
    "            # Zero the parameter gradients\n",
    "            optimizer.zero_grad()\n",
    "            \n",
    "            # Forward pass\n",
    "            outputs = model(images)\n",
    "            loss = criterion(outputs, labels)\n",
    "            \n",
    "            # Backward pass and optimization\n",
    "            loss.backward()\n",
    "            optimizer.step()\n",
    "            \n",
    "            if (batch_num+1) % 10 == 0:\n",
    "                print(f\"Batch: {batch_num+1}, Epoch: {epoch+1}, Loss: {loss.item():0.2f}\")\n",
    "            \n",
    "            running_loss += loss.item() * images.size(0)\n",
    "            \n",
    "        epoch_loss = running_loss / len(train_loader.dataset)\n",
    "        print(f\"Epoch [{epoch+1}/{epochs}], Avg Loss: {epoch_loss:.4f}\")\n",
    "\n",
    "        # Validation\n",
    "        model.eval()\n",
    "        correct = 0\n",
    "        total = 0\n",
    "        all_labels = []\n",
    "        all_predictions = []\n",
    "        \n",
    "        with torch.no_grad():\n",
    "            for images, labels in val_loader:\n",
    "                images, labels = images.to(device), labels.to(device)\n",
    "                outputs = model(images)\n",
    "                _, predicted = torch.max(outputs.data,1)\n",
    "                total += labels.size(0)\n",
    "                correct += (predicted == labels).sum().item()\n",
    "                all_labels.extend(labels.cpu().numpy())\n",
    "                all_predictions.extend(predicted.cpu().numpy())\n",
    "                \n",
    "            print(f\"*** Validation Accuracy: {100 * correct / total:.2f}% ***\")\n",
    "            \n",
    "    end = time.time()\n",
    "    print(f\"Execution time: {end - start} seconds\")     \n",
    "    \n",
    "    return all_labels, all_predictions"
   ]
  },
  {
   "cell_type": "code",
   "execution_count": 23,
   "id": "65149270",
   "metadata": {},
   "outputs": [
    {
     "name": "stdout",
     "output_type": "stream",
     "text": [
      "Batch: 10, Epoch: 1, Loss: 1.77\n",
      "Batch: 20, Epoch: 1, Loss: 1.76\n",
      "Batch: 30, Epoch: 1, Loss: 1.67\n",
      "Batch: 40, Epoch: 1, Loss: 1.58\n",
      "Batch: 50, Epoch: 1, Loss: 1.60\n",
      "Epoch [1/10], Avg Loss: 1.8652\n",
      "*** Validation Accuracy: 42.09% ***\n",
      "Batch: 10, Epoch: 2, Loss: 1.35\n",
      "Batch: 20, Epoch: 2, Loss: 1.71\n",
      "Batch: 30, Epoch: 2, Loss: 1.17\n",
      "Batch: 40, Epoch: 2, Loss: 1.15\n",
      "Batch: 50, Epoch: 2, Loss: 1.07\n",
      "Epoch [2/10], Avg Loss: 1.2611\n",
      "*** Validation Accuracy: 52.17% ***\n",
      "Batch: 10, Epoch: 3, Loss: 0.99\n",
      "Batch: 20, Epoch: 3, Loss: 0.93\n",
      "Batch: 30, Epoch: 3, Loss: 0.84\n",
      "Batch: 40, Epoch: 3, Loss: 1.21\n",
      "Batch: 50, Epoch: 3, Loss: 1.12\n",
      "Epoch [3/10], Avg Loss: 1.0484\n",
      "*** Validation Accuracy: 51.65% ***\n",
      "Batch: 10, Epoch: 4, Loss: 0.93\n",
      "Batch: 20, Epoch: 4, Loss: 1.09\n",
      "Batch: 30, Epoch: 4, Loss: 0.82\n",
      "Batch: 40, Epoch: 4, Loss: 0.83\n",
      "Batch: 50, Epoch: 4, Loss: 0.75\n",
      "Epoch [4/10], Avg Loss: 0.9486\n",
      "*** Validation Accuracy: 55.83% ***\n",
      "Batch: 10, Epoch: 5, Loss: 0.76\n",
      "Batch: 20, Epoch: 5, Loss: 1.23\n",
      "Batch: 30, Epoch: 5, Loss: 0.81\n",
      "Batch: 40, Epoch: 5, Loss: 0.94\n",
      "Batch: 50, Epoch: 5, Loss: 0.76\n",
      "Epoch [5/10], Avg Loss: 0.8975\n",
      "*** Validation Accuracy: 55.30% ***\n",
      "Batch: 10, Epoch: 6, Loss: 0.76\n",
      "Batch: 20, Epoch: 6, Loss: 0.98\n",
      "Batch: 30, Epoch: 6, Loss: 1.14\n",
      "Batch: 40, Epoch: 6, Loss: 0.96\n",
      "Batch: 50, Epoch: 6, Loss: 0.84\n",
      "Epoch [6/10], Avg Loss: 0.8556\n",
      "*** Validation Accuracy: 60.35% ***\n",
      "Batch: 10, Epoch: 7, Loss: 0.68\n",
      "Batch: 20, Epoch: 7, Loss: 0.58\n",
      "Batch: 30, Epoch: 7, Loss: 0.72\n",
      "Batch: 40, Epoch: 7, Loss: 0.83\n",
      "Batch: 50, Epoch: 7, Loss: 0.83\n",
      "Epoch [7/10], Avg Loss: 0.8379\n",
      "*** Validation Accuracy: 54.96% ***\n",
      "Batch: 10, Epoch: 8, Loss: 0.72\n",
      "Batch: 20, Epoch: 8, Loss: 0.73\n",
      "Batch: 30, Epoch: 8, Loss: 0.84\n",
      "Batch: 40, Epoch: 8, Loss: 0.69\n",
      "Batch: 50, Epoch: 8, Loss: 0.79\n",
      "Epoch [8/10], Avg Loss: 0.7556\n",
      "*** Validation Accuracy: 57.74% ***\n",
      "Batch: 10, Epoch: 9, Loss: 0.70\n",
      "Batch: 20, Epoch: 9, Loss: 0.68\n",
      "Batch: 30, Epoch: 9, Loss: 0.64\n",
      "Batch: 40, Epoch: 9, Loss: 0.64\n",
      "Batch: 50, Epoch: 9, Loss: 0.83\n",
      "Epoch [9/10], Avg Loss: 0.7126\n",
      "*** Validation Accuracy: 56.70% ***\n",
      "Batch: 10, Epoch: 10, Loss: 0.63\n",
      "Batch: 20, Epoch: 10, Loss: 0.62\n",
      "Batch: 30, Epoch: 10, Loss: 0.81\n",
      "Batch: 40, Epoch: 10, Loss: 0.58\n",
      "Batch: 50, Epoch: 10, Loss: 0.71\n",
      "Epoch [10/10], Avg Loss: 0.6701\n",
      "*** Validation Accuracy: 56.00% ***\n",
      "Execution time: 1582.1961328983307 seconds\n"
     ]
    }
   ],
   "source": [
    "# Instantiate the model, loss function, and optimizer\n",
    "model = CarClassifierCNN(num_classes=num_classes).to(device)\n",
    "criterion = nn.CrossEntropyLoss()\n",
    "optimizer = optim.Adam(model.parameters(), lr=0.001)\n",
    "\n",
    "all_labels, all_predictions = train_model(model, criterion, optimizer, epochs=10)"
   ]
  },
  {
   "cell_type": "markdown",
   "id": "d398d166",
   "metadata": {},
   "source": [
    "### \n",
    "\n",
    "\n",
    "Model 2: CNN with Regularization"
   ]
  },
  {
   "cell_type": "code",
   "execution_count": 25,
   "id": "d6bb6b55",
   "metadata": {},
   "outputs": [],
   "source": [
    "class CarClassifierCNNWithRegularization(nn.Module):\n",
    "    def __init__(self, num_classes):\n",
    "        super().__init__()\n",
    "        self.network = nn.Sequential(\n",
    "            nn.Conv2d(in_channels=3, out_channels=16, kernel_size=3, stride=1, padding=1), # (16, 224, 224) \n",
    "            nn.BatchNorm2d(16),\n",
    "            nn.ReLU(),\n",
    "            nn.MaxPool2d(kernel_size=2, stride=2, padding=0), # (16, 112, 112),\n",
    "            nn.Conv2d(in_channels=16, out_channels=32, kernel_size=3, stride=1, padding=1), \n",
    "            nn.BatchNorm2d(32),\n",
    "            nn.ReLU(),\n",
    "            nn.MaxPool2d(kernel_size=2, stride=2, padding=0), # (32, 56, 56)           \n",
    "            nn.Conv2d(in_channels=32, out_channels=64, kernel_size=3, stride=1, padding=1), \n",
    "            nn.BatchNorm2d(64),\n",
    "            nn.ReLU(),\n",
    "            nn.MaxPool2d(kernel_size=2, stride=2, padding=0), # (64, 28, 28),\n",
    "            nn.Flatten(),\n",
    "            nn.Linear(64*28*28, 512),\n",
    "            nn.ReLU(),\n",
    "            nn.Dropout(0.5),\n",
    "            nn.Linear(512, num_classes)\n",
    "        )\n",
    "        \n",
    "    def forward(self, x):\n",
    "        x = self.network(x)\n",
    "        return x"
   ]
  },
  {
   "cell_type": "code",
   "execution_count": 26,
   "id": "a158a32f",
   "metadata": {},
   "outputs": [
    {
     "name": "stdout",
     "output_type": "stream",
     "text": [
      "Batch: 10, Epoch: 1, Loss: 13.54\n",
      "Batch: 20, Epoch: 1, Loss: 4.85\n",
      "Batch: 30, Epoch: 1, Loss: 1.78\n",
      "Batch: 40, Epoch: 1, Loss: 1.44\n",
      "Batch: 50, Epoch: 1, Loss: 1.50\n",
      "Epoch [1/10], Avg Loss: 7.4743\n",
      "*** Validation Accuracy: 39.30% ***\n",
      "Batch: 10, Epoch: 2, Loss: 1.72\n",
      "Batch: 20, Epoch: 2, Loss: 1.48\n",
      "Batch: 30, Epoch: 2, Loss: 1.44\n",
      "Batch: 40, Epoch: 2, Loss: 1.17\n",
      "Batch: 50, Epoch: 2, Loss: 1.28\n",
      "Epoch [2/10], Avg Loss: 1.3874\n",
      "*** Validation Accuracy: 49.22% ***\n",
      "Batch: 10, Epoch: 3, Loss: 1.26\n",
      "Batch: 20, Epoch: 3, Loss: 1.39\n",
      "Batch: 30, Epoch: 3, Loss: 1.47\n",
      "Batch: 40, Epoch: 3, Loss: 1.31\n",
      "Batch: 50, Epoch: 3, Loss: 1.15\n",
      "Epoch [3/10], Avg Loss: 1.3105\n",
      "*** Validation Accuracy: 51.30% ***\n",
      "Batch: 10, Epoch: 4, Loss: 1.16\n",
      "Batch: 20, Epoch: 4, Loss: 1.25\n",
      "Batch: 30, Epoch: 4, Loss: 1.25\n",
      "Batch: 40, Epoch: 4, Loss: 0.98\n",
      "Batch: 50, Epoch: 4, Loss: 1.22\n",
      "Epoch [4/10], Avg Loss: 1.2380\n",
      "*** Validation Accuracy: 49.04% ***\n",
      "Batch: 10, Epoch: 5, Loss: 1.29\n",
      "Batch: 20, Epoch: 5, Loss: 1.21\n",
      "Batch: 30, Epoch: 5, Loss: 1.22\n",
      "Batch: 40, Epoch: 5, Loss: 1.17\n",
      "Batch: 50, Epoch: 5, Loss: 1.21\n",
      "Epoch [5/10], Avg Loss: 1.2145\n",
      "*** Validation Accuracy: 50.61% ***\n",
      "Batch: 10, Epoch: 6, Loss: 1.19\n",
      "Batch: 20, Epoch: 6, Loss: 0.96\n",
      "Batch: 30, Epoch: 6, Loss: 1.32\n",
      "Batch: 40, Epoch: 6, Loss: 1.10\n",
      "Batch: 50, Epoch: 6, Loss: 1.33\n",
      "Epoch [6/10], Avg Loss: 1.1543\n",
      "*** Validation Accuracy: 50.09% ***\n",
      "Batch: 10, Epoch: 7, Loss: 1.47\n",
      "Batch: 20, Epoch: 7, Loss: 1.56\n",
      "Batch: 30, Epoch: 7, Loss: 1.43\n",
      "Batch: 40, Epoch: 7, Loss: 1.04\n",
      "Batch: 50, Epoch: 7, Loss: 1.11\n",
      "Epoch [7/10], Avg Loss: 1.1427\n",
      "*** Validation Accuracy: 51.48% ***\n",
      "Batch: 10, Epoch: 8, Loss: 1.13\n",
      "Batch: 20, Epoch: 8, Loss: 1.03\n",
      "Batch: 30, Epoch: 8, Loss: 1.23\n",
      "Batch: 40, Epoch: 8, Loss: 1.07\n",
      "Batch: 50, Epoch: 8, Loss: 1.38\n",
      "Epoch [8/10], Avg Loss: 1.1081\n",
      "*** Validation Accuracy: 53.74% ***\n",
      "Batch: 10, Epoch: 9, Loss: 1.24\n",
      "Batch: 20, Epoch: 9, Loss: 1.00\n",
      "Batch: 30, Epoch: 9, Loss: 0.80\n",
      "Batch: 40, Epoch: 9, Loss: 0.96\n",
      "Batch: 50, Epoch: 9, Loss: 1.05\n",
      "Epoch [9/10], Avg Loss: 1.0568\n",
      "*** Validation Accuracy: 52.17% ***\n",
      "Batch: 10, Epoch: 10, Loss: 0.98\n",
      "Batch: 20, Epoch: 10, Loss: 1.05\n",
      "Batch: 30, Epoch: 10, Loss: 1.04\n",
      "Batch: 40, Epoch: 10, Loss: 1.16\n",
      "Batch: 50, Epoch: 10, Loss: 0.72\n",
      "Epoch [10/10], Avg Loss: 1.0427\n",
      "*** Validation Accuracy: 52.17% ***\n",
      "Execution time: 2209.640944004059 seconds\n"
     ]
    }
   ],
   "source": [
    "model = CarClassifierCNNWithRegularization(num_classes=num_classes).to(device)\n",
    "criterion = nn.CrossEntropyLoss()\n",
    "optimizer = optim.Adam(model.parameters(), lr=0.001, weight_decay=1e-4)\n",
    "\n",
    "all_labels, all_predictions = train_model(model, criterion, optimizer,  epochs=10)"
   ]
  },
  {
   "cell_type": "markdown",
   "id": "ffbfe5b1",
   "metadata": {},
   "source": [
    "### Model 3: Transfer Learning with EfficientNet"
   ]
  },
  {
   "cell_type": "code",
   "execution_count": 28,
   "id": "4c2ed16a",
   "metadata": {},
   "outputs": [
    {
     "data": {
      "text/plain": [
       "1280"
      ]
     },
     "execution_count": 28,
     "metadata": {},
     "output_type": "execute_result"
    }
   ],
   "source": [
    "model = models.efficientnet_b0(weights='DEFAULT')\n",
    "model.classifier[1].in_features"
   ]
  },
  {
   "cell_type": "code",
   "execution_count": 29,
   "id": "bc5f350c",
   "metadata": {},
   "outputs": [],
   "source": [
    "class CarClassifierEfficientNet(nn.Module):\n",
    "    def __init__(self, num_classes):\n",
    "        super().__init__()\n",
    "        self.model = models.efficientnet_b0(weights='DEFAULT')\n",
    "        \n",
    "        for param in self.model.parameters():\n",
    "            param.requires_grad = False\n",
    "        \n",
    "        in_features = self.model.classifier[1].in_features\n",
    "        \n",
    "        self.model.classifier = nn.Sequential(\n",
    "            nn.Dropout(0.5),\n",
    "            nn.Linear(in_features, num_classes)\n",
    "        )\n",
    "        \n",
    "    def forward(self, x):\n",
    "        x = self.model(x)\n",
    "        return x              "
   ]
  },
  {
   "cell_type": "code",
   "execution_count": 30,
   "id": "0d848396",
   "metadata": {},
   "outputs": [
    {
     "name": "stdout",
     "output_type": "stream",
     "text": [
      "Batch: 10, Epoch: 1, Loss: 1.71\n",
      "Batch: 20, Epoch: 1, Loss: 1.55\n",
      "Batch: 30, Epoch: 1, Loss: 1.34\n",
      "Batch: 40, Epoch: 1, Loss: 1.29\n",
      "Batch: 50, Epoch: 1, Loss: 1.29\n",
      "Epoch [1/10], Avg Loss: 1.4832\n",
      "*** Validation Accuracy: 57.04% ***\n",
      "Batch: 10, Epoch: 2, Loss: 1.08\n",
      "Batch: 20, Epoch: 2, Loss: 1.21\n",
      "Batch: 30, Epoch: 2, Loss: 1.14\n",
      "Batch: 40, Epoch: 2, Loss: 1.15\n",
      "Batch: 50, Epoch: 2, Loss: 1.03\n",
      "Epoch [2/10], Avg Loss: 1.1284\n",
      "*** Validation Accuracy: 62.78% ***\n",
      "Batch: 10, Epoch: 3, Loss: 1.01\n",
      "Batch: 20, Epoch: 3, Loss: 1.16\n",
      "Batch: 30, Epoch: 3, Loss: 1.00\n",
      "Batch: 40, Epoch: 3, Loss: 1.06\n",
      "Batch: 50, Epoch: 3, Loss: 0.91\n",
      "Epoch [3/10], Avg Loss: 1.0088\n",
      "*** Validation Accuracy: 63.83% ***\n",
      "Batch: 10, Epoch: 4, Loss: 0.79\n",
      "Batch: 20, Epoch: 4, Loss: 1.09\n",
      "Batch: 30, Epoch: 4, Loss: 0.76\n",
      "Batch: 40, Epoch: 4, Loss: 0.90\n",
      "Batch: 50, Epoch: 4, Loss: 1.24\n",
      "Epoch [4/10], Avg Loss: 0.9584\n",
      "*** Validation Accuracy: 64.00% ***\n",
      "Batch: 10, Epoch: 5, Loss: 1.14\n",
      "Batch: 20, Epoch: 5, Loss: 0.87\n",
      "Batch: 30, Epoch: 5, Loss: 0.87\n",
      "Batch: 40, Epoch: 5, Loss: 0.74\n",
      "Batch: 50, Epoch: 5, Loss: 0.79\n",
      "Epoch [5/10], Avg Loss: 0.9028\n",
      "*** Validation Accuracy: 66.61% ***\n",
      "Batch: 10, Epoch: 6, Loss: 0.99\n",
      "Batch: 20, Epoch: 6, Loss: 0.92\n",
      "Batch: 30, Epoch: 6, Loss: 0.74\n",
      "Batch: 40, Epoch: 6, Loss: 0.89\n",
      "Batch: 50, Epoch: 6, Loss: 0.71\n",
      "Epoch [6/10], Avg Loss: 0.8741\n",
      "*** Validation Accuracy: 66.43% ***\n",
      "Batch: 10, Epoch: 7, Loss: 0.88\n",
      "Batch: 20, Epoch: 7, Loss: 0.82\n",
      "Batch: 30, Epoch: 7, Loss: 1.00\n",
      "Batch: 40, Epoch: 7, Loss: 0.69\n",
      "Batch: 50, Epoch: 7, Loss: 0.67\n",
      "Epoch [7/10], Avg Loss: 0.8660\n",
      "*** Validation Accuracy: 66.61% ***\n",
      "Batch: 10, Epoch: 8, Loss: 0.94\n",
      "Batch: 20, Epoch: 8, Loss: 0.73\n",
      "Batch: 30, Epoch: 8, Loss: 0.91\n",
      "Batch: 40, Epoch: 8, Loss: 0.78\n",
      "Batch: 50, Epoch: 8, Loss: 0.81\n",
      "Epoch [8/10], Avg Loss: 0.8396\n",
      "*** Validation Accuracy: 67.48% ***\n",
      "Batch: 10, Epoch: 9, Loss: 0.61\n",
      "Batch: 20, Epoch: 9, Loss: 0.73\n",
      "Batch: 30, Epoch: 9, Loss: 1.09\n",
      "Batch: 40, Epoch: 9, Loss: 0.87\n",
      "Batch: 50, Epoch: 9, Loss: 0.76\n",
      "Epoch [9/10], Avg Loss: 0.8233\n",
      "*** Validation Accuracy: 67.30% ***\n",
      "Batch: 10, Epoch: 10, Loss: 0.79\n",
      "Batch: 20, Epoch: 10, Loss: 0.89\n",
      "Batch: 30, Epoch: 10, Loss: 0.67\n",
      "Batch: 40, Epoch: 10, Loss: 0.93\n",
      "Batch: 50, Epoch: 10, Loss: 0.75\n",
      "Epoch [10/10], Avg Loss: 0.7904\n",
      "*** Validation Accuracy: 67.13% ***\n",
      "Execution time: 2164.769625902176 seconds\n"
     ]
    }
   ],
   "source": [
    "model = CarClassifierEfficientNet(num_classes=num_classes).to(device)\n",
    "criterion = nn.CrossEntropyLoss()\n",
    "optimizer = optim.Adam(filter(lambda p: p.requires_grad, model.parameters()), lr=0.001)\n",
    "\n",
    "all_labels, all_predictions = train_model(model, criterion, optimizer, epochs=10)"
   ]
  },
  {
   "cell_type": "markdown",
   "id": "8375001e",
   "metadata": {},
   "source": [
    "### \n",
    "\n",
    "Model 4: Transfer Learning with ResNet"
   ]
  },
  {
   "cell_type": "code",
   "execution_count": 32,
   "id": "50de3edc",
   "metadata": {},
   "outputs": [],
   "source": [
    "# Load the pre-trained ResNet model\n",
    "class CarClassifierResNet(nn.Module):\n",
    "    def __init__(self, num_classes, dropout_rate=0.5):\n",
    "        super().__init__()\n",
    "        self.model = models.resnet50(weights='DEFAULT')\n",
    "        # Freeze all layers except the final fully connected layer\n",
    "        for param in self.model.parameters():\n",
    "            param.requires_grad = False\n",
    "            \n",
    "        # Unfreeze layer4 and fc layers\n",
    "        for param in self.model.layer4.parameters():\n",
    "            param.requires_grad = True            \n",
    "            \n",
    "        # Replace the final fully connected layer\n",
    "        self.model.fc = nn.Sequential(\n",
    "            nn.Dropout(dropout_rate),\n",
    "            nn.Linear(self.model.fc.in_features, num_classes)\n",
    "        )\n",
    "\n",
    "    def forward(self, x):\n",
    "        x = self.model(x)\n",
    "        return x"
   ]
  },
  {
   "cell_type": "code",
   "execution_count": 35,
   "id": "4c337fa5",
   "metadata": {},
   "outputs": [
    {
     "name": "stdout",
     "output_type": "stream",
     "text": [
      "Batch: 10, Epoch: 1, Loss: 1.00\n",
      "Batch: 20, Epoch: 1, Loss: 0.67\n",
      "Batch: 30, Epoch: 1, Loss: 0.71\n",
      "Batch: 40, Epoch: 1, Loss: 0.87\n",
      "Batch: 50, Epoch: 1, Loss: 0.68\n",
      "Epoch [1/10], Avg Loss: 0.8792\n",
      "*** Validation Accuracy: 70.26% ***\n",
      "Batch: 10, Epoch: 2, Loss: 0.52\n",
      "Batch: 20, Epoch: 2, Loss: 0.92\n",
      "Batch: 30, Epoch: 2, Loss: 0.39\n",
      "Batch: 40, Epoch: 2, Loss: 0.60\n",
      "Batch: 50, Epoch: 2, Loss: 0.56\n",
      "Epoch [2/10], Avg Loss: 0.5317\n",
      "*** Validation Accuracy: 76.35% ***\n",
      "Batch: 10, Epoch: 3, Loss: 0.35\n",
      "Batch: 20, Epoch: 3, Loss: 0.15\n",
      "Batch: 30, Epoch: 3, Loss: 0.50\n",
      "Batch: 40, Epoch: 3, Loss: 0.63\n",
      "Batch: 50, Epoch: 3, Loss: 0.45\n",
      "Epoch [3/10], Avg Loss: 0.3617\n",
      "*** Validation Accuracy: 77.91% ***\n",
      "Batch: 10, Epoch: 4, Loss: 0.15\n",
      "Batch: 20, Epoch: 4, Loss: 0.40\n",
      "Batch: 30, Epoch: 4, Loss: 0.38\n",
      "Batch: 40, Epoch: 4, Loss: 0.28\n",
      "Batch: 50, Epoch: 4, Loss: 0.14\n",
      "Epoch [4/10], Avg Loss: 0.2657\n",
      "*** Validation Accuracy: 79.65% ***\n",
      "Batch: 10, Epoch: 5, Loss: 0.13\n",
      "Batch: 20, Epoch: 5, Loss: 0.15\n",
      "Batch: 30, Epoch: 5, Loss: 0.12\n",
      "Batch: 40, Epoch: 5, Loss: 0.29\n",
      "Batch: 50, Epoch: 5, Loss: 0.26\n",
      "Epoch [5/10], Avg Loss: 0.2066\n",
      "*** Validation Accuracy: 78.26% ***\n",
      "Batch: 10, Epoch: 6, Loss: 0.23\n",
      "Batch: 20, Epoch: 6, Loss: 0.48\n",
      "Batch: 30, Epoch: 6, Loss: 0.36\n",
      "Batch: 40, Epoch: 6, Loss: 0.08\n",
      "Batch: 50, Epoch: 6, Loss: 0.24\n",
      "Epoch [6/10], Avg Loss: 0.2007\n",
      "*** Validation Accuracy: 79.30% ***\n",
      "Batch: 10, Epoch: 7, Loss: 0.11\n",
      "Batch: 20, Epoch: 7, Loss: 0.11\n",
      "Batch: 30, Epoch: 7, Loss: 0.13\n",
      "Batch: 40, Epoch: 7, Loss: 0.42\n",
      "Batch: 50, Epoch: 7, Loss: 0.17\n",
      "Epoch [7/10], Avg Loss: 0.1306\n",
      "*** Validation Accuracy: 79.30% ***\n",
      "Batch: 10, Epoch: 8, Loss: 0.03\n",
      "Batch: 20, Epoch: 8, Loss: 0.04\n",
      "Batch: 30, Epoch: 8, Loss: 0.08\n",
      "Batch: 40, Epoch: 8, Loss: 0.11\n",
      "Batch: 50, Epoch: 8, Loss: 0.22\n",
      "Epoch [8/10], Avg Loss: 0.1082\n",
      "*** Validation Accuracy: 77.39% ***\n",
      "Batch: 10, Epoch: 9, Loss: 0.07\n",
      "Batch: 20, Epoch: 9, Loss: 0.10\n",
      "Batch: 30, Epoch: 9, Loss: 0.17\n",
      "Batch: 40, Epoch: 9, Loss: 0.12\n",
      "Batch: 50, Epoch: 9, Loss: 0.14\n",
      "Epoch [9/10], Avg Loss: 0.1242\n",
      "*** Validation Accuracy: 79.30% ***\n",
      "Batch: 10, Epoch: 10, Loss: 0.03\n",
      "Batch: 20, Epoch: 10, Loss: 0.16\n",
      "Batch: 30, Epoch: 10, Loss: 0.02\n",
      "Batch: 40, Epoch: 10, Loss: 0.06\n",
      "Batch: 50, Epoch: 10, Loss: 0.07\n",
      "Epoch [10/10], Avg Loss: 0.0699\n",
      "*** Validation Accuracy: 78.78% ***\n",
      "Execution time: 27142.325387954712 seconds\n"
     ]
    }
   ],
   "source": [
    "model = CarClassifierResNet(num_classes=num_classes, dropout_rate=0.2).to(device)\n",
    "criterion = nn.CrossEntropyLoss()\n",
    "optimizer = optim.Adam(filter(lambda p: p.requires_grad, model.parameters()), lr=0.005)\n",
    "\n",
    "labels, predictions = train_model(model, criterion, optimizer, epochs=10)"
   ]
  },
  {
   "cell_type": "markdown",
   "id": "35b5bae5",
   "metadata": {},
   "source": [
    "### Model Evaluation using Confusion Matrix and Classification Report"
   ]
  },
  {
   "cell_type": "code",
   "execution_count": 37,
   "id": "c32e8e26",
   "metadata": {},
   "outputs": [
    {
     "name": "stdout",
     "output_type": "stream",
     "text": [
      "              precision    recall  f1-score   support\n",
      "\n",
      "           0       0.81      0.78      0.79       113\n",
      "           1       0.70      0.80      0.75       104\n",
      "           2       0.89      0.83      0.86       138\n",
      "           3       0.85      0.78      0.81        80\n",
      "           4       0.69      0.64      0.66        69\n",
      "           5       0.75      0.87      0.81        71\n",
      "\n",
      "    accuracy                           0.79       575\n",
      "   macro avg       0.78      0.78      0.78       575\n",
      "weighted avg       0.79      0.79      0.79       575\n",
      "\n"
     ]
    }
   ],
   "source": [
    "from sklearn.metrics import classification_report\n",
    "\n",
    "report = classification_report(labels, predictions)\n",
    "print(report)"
   ]
  },
  {
   "cell_type": "code",
   "execution_count": 38,
   "id": "6bf18500",
   "metadata": {},
   "outputs": [
    {
     "data": {
      "image/png": "[encoded data removed]",
      "text/plain": [
       "<Figure size 640x480 with 2 Axes>"
      ]
     },
     "metadata": {},
     "output_type": "display_data"
    }
   ],
   "source": [
    "import numpy as np\n",
    "from sklearn.metrics import confusion_matrix, ConfusionMatrixDisplay\n",
    "from matplotlib import pyplot as plt\n",
    "\n",
    "conf_matrix = confusion_matrix(labels, predictions, labels=np.arange(num_classes))\n",
    "disp = ConfusionMatrixDisplay(confusion_matrix=conf_matrix, display_labels=class_names)\n",
    "disp.plot(cmap=plt.cm.Blues, xticks_rotation=45)\n",
    "plt.title(\"Confusion Matrix for Vehicle Damage Classification\")\n",
    "plt.show()"
   ]
  },
  {
   "cell_type": "markdown",
   "id": "fa8f28f0",
   "metadata": {},
   "source": [
    "### Save the Model"
   ]
  },
  {
   "cell_type": "code",
   "execution_count": 72,
   "id": "68220446",
   "metadata": {},
   "outputs": [],
   "source": [
    "torch.save(model.state_dict(), 'saved_model.pth')"
   ]
  },
  {
   "cell_type": "code",
   "execution_count": null,
   "id": "966a8fa3-0109-4e61-9f50-d7894d09f158",
   "metadata": {},
   "outputs": [],
   "source": []
  }
 ],
 "metadata": {
  "kernelspec": {
   "display_name": "Python 3 (ipykernel)",
   "language": "python",
   "name": "python3"
  },
  "language_info": {
   "codemirror_mode": {
    "name": "ipython",
    "version": 3
   },
   "file_extension": ".py",
   "mimetype": "text/x-python",
   "name": "python",
   "nbconvert_exporter": "python",
   "pygments_lexer": "ipython3",
   "version": "3.12.2"
  }
 },
 "nbformat": 4,
 "nbformat_minor": 5
}
